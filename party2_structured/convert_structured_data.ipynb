{
 "cells": [
  {
   "cell_type": "code",
   "execution_count": 1,
   "metadata": {},
   "outputs": [],
   "source": [
    "import pickle\n",
    "import torch\n",
    "import numpy as np\n",
    "import gensim\n",
    "from gensim.models import KeyedVectors\n",
    "import os\n",
    "import pandas as pd\n",
    "import csv\n",
    "import fasttext\n",
    "import sys\n",
    "import torch"
   ]
  },
  {
   "cell_type": "code",
   "execution_count": 2,
   "metadata": {},
   "outputs": [],
   "source": [
    "vectors_filename = \"/home/jovyan/embeddings/BioWordVec_PubMed_MIMICIII_d200.vec.bin\"\n",
    "model_filename = \"/home/jovyan/embeddings/BioWordVec_PubMed_MIMICIII_d200.bin\"\n",
    "\n",
    "#! Remove this path once I implement PSI\n",
    "deid_notes_path = \"/home/jovyan/mpc_use_case/unstructured_data/deidentified_notes\"\n",
    "\n",
    "knee_keywords_output = \"/home/jovyan/mpc_use_case/crypten_structured_data/knee_keywords.pt\"\n",
    "hip_keywords_output = \"/home/jovyan/mpc_use_case/crypten_structured_data/hip_keywords.pt\""
   ]
  },
  {
   "cell_type": "code",
   "execution_count": 3,
   "metadata": {},
   "outputs": [
    {
     "name": "stdout",
     "output_type": "stream",
     "text": [
      "Vectors loaded\n"
     ]
    }
   ],
   "source": [
    "bioword_vector = KeyedVectors.load_word2vec_format(vectors_filename, binary=True)\n",
    "print(\"Vectors loaded\")"
   ]
  },
  {
   "cell_type": "code",
   "execution_count": 4,
   "metadata": {},
   "outputs": [],
   "source": [
    "bioword_model = fasttext.load_model(model_filename)\n",
    "print(\"Model loaded\")"
   ]
  },
  {
   "cell_type": "code",
   "execution_count": null,
   "metadata": {},
   "outputs": [
    {
     "name": "stdout",
     "output_type": "stream",
     "text": [
      "\n",
      "Processing patients and their notes based on their diagnosis\n",
      "Number of patients having patient notes: 163\n"
     ]
    }
   ],
   "source": [
    "\n",
    "#! -----------------------------------------------------------------------------------------\n",
    "#TODO Untructured data - Remove after\n",
    "#! -----------------------------------------------------------------------------------------\n",
    "print(\"\\nProcessing patients and their notes based on their diagnosis\")\n",
    "\n",
    "# Fetching demographic_no for all patients from the filename of notes\n",
    "files = os.listdir(deid_notes_path)\n",
    "all_demographic_nos_notes = set()\n",
    "oa_patients = set()\n",
    "for file in files:\n",
    "    demographic_no = int(file.split(\"-\")[1].split(\".\")[0])\n",
    "    all_demographic_nos_notes.add(demographic_no)\n",
    "print(\"Number of patients having patient notes:\", len(all_demographic_nos_notes))"
   ]
  },
  {
   "cell_type": "code",
   "execution_count": null,
   "metadata": {},
   "outputs": [
    {
     "name": "stdout",
     "output_type": "stream",
     "text": [
      "\n",
      "Number of patients listed with disease code: 163\n",
      "Number of patients listed in disease code table as having OA: 33\n"
     ]
    }
   ],
   "source": [
    "all_demographic_nos_dxresearch = set()\n",
    "oa_patients = set()\n",
    "\n",
    "# Convert txt to csv\n",
    "with open('/home/jovyan/mpc_use_case/structured_data/DxResearch.txt', 'r') as in_file:\n",
    "    stripped = (line.strip() for line in in_file)\n",
    "    lines = (line.split(\",\") for line in stripped if line)\n",
    "    with open('/home/jovyan/mpc_use_case/prototype/oaTypes/DxResearch.csv', 'w') as out_file:\n",
    "        writer = csv.writer(out_file)\n",
    "        writer.writerows(lines)\n",
    "\n",
    "# Fetching demographic_no of total patients and OA patients from the DxResearch table\n",
    "df = pd.read_csv(\"/home/jovyan/mpc_use_case/prototype/oaTypes/DxResearch.csv\")\n",
    "# df.head()\n",
    "for index, row in df.iterrows():\n",
    "    no = row['demographic_no']\n",
    "    all_demographic_nos_dxresearch.add(no)\n",
    "    if row['dxresearch_code'] == 715:\n",
    "        oa_patients.add(no)\n",
    "print(\"\\nNumber of patients listed with disease code:\", len(all_demographic_nos_dxresearch))\n",
    "print(\"Number of patients listed in disease code table as having OA:\", len(oa_patients))"
   ]
  },
  {
   "cell_type": "code",
   "execution_count": null,
   "metadata": {},
   "outputs": [
    {
     "name": "stdout",
     "output_type": "stream",
     "text": [
      "Patient IDs: [4, 5, 6, 7, 8, 9, 11, 14, 18, 26, 37, 40, 54, 58, 61, 63, 64, 76, 77, 83, 94, 101, 103, 106, 110, 115, 133, 135, 148, 150, 155, 159, 162]\n"
     ]
    }
   ],
   "source": [
    "\n",
    "#! -----------------------------------------------------------------------------------------\n",
    "#TODO Where PSI comes in\n",
    "#! -----------------------------------------------------------------------------------------\n",
    "# Deducting the demographic_no of OA patients having notes\n",
    "oa_patients_with_notes = oa_patients.intersection(all_demographic_nos_notes)\n",
    "#print(\"Number of patients having OA and notes:\", len(oa_patients_with_notes))\n",
    "print(\"Patient IDs:\", sorted(oa_patients_with_notes))"
   ]
  },
  {
   "cell_type": "code",
   "execution_count": null,
   "metadata": {},
   "outputs": [],
   "source": [
    "# Lists that contain keywords that we can look for in the clinical notes\n",
    "knee_oa_substrings = ['knee pain', 'pain knee', 'knee oa', 'oa knee', 'osteoarthrities knee', 'knee osteoarthritis', \n",
    "                      'kneepain', 'painknee', 'kneeoa', 'oaknee', 'osteoarthritiesknee', 'kneeosteoarthritis']\n",
    "hip_oa_substrings = ['hip pain', 'pain hip', 'hip oa', 'oa hip', 'osteoarthrities hip', 'hip osteoarthritis',\n",
    "                     'hippain', 'painhip', 'hipoa', 'oahip', 'osteoarthritieship', 'hiposteoarthritis']\n",
    "\n",
    "# knee_oa_substrings = ['kneepain', 'painknee', 'kneeoa', 'oaknee', 'osteoarthritiesknee', 'kneeosteoarthritis']\n",
    "# hip_oa_substrings = ['hip pain', 'pain hip', 'hip oa', 'oa hip', 'osteoarthrities hip', 'hip osteoarthritis',\n",
    "#                      'hippain', 'painhip', 'hipoa', 'oahip', 'osteoarthritieship', 'hiposteoarthritis']"
   ]
  },
  {
   "cell_type": "code",
   "execution_count": null,
   "metadata": {},
   "outputs": [
    {
     "name": "stdout",
     "output_type": "stream",
     "text": [
      "dict_keys(['knee pain', 'pain knee', 'knee oa', 'oa knee', 'osteoarthrities knee', 'knee osteoarthritis', 'kneepain', 'painknee', 'kneeoa', 'oaknee', 'osteoarthritiesknee', 'kneeosteoarthritis'])\n",
      "dict_keys(['hip pain', 'pain hip', 'hip oa', 'oa hip', 'osteoarthrities hip', 'hip osteoarthritis', 'hippain', 'painhip', 'hipoa', 'oahip', 'osteoarthritieship', 'hiposteoarthritis'])\n"
     ]
    }
   ],
   "source": [
    "# This adds every individual word into a new list, and splits up strings that contain more than one word so that their\n",
    "# individual words can be added to the list. The new list contains unique individual words that are found in any of the original\n",
    "# strings. Returns a dictionary of individual words and their associated embeddings\n",
    "def create_embeddings(substrings):  \n",
    "    vectors = {}\n",
    "    single_words =[]\n",
    "    for i in substrings:\n",
    "        # If the substring only contains one word\n",
    "        if len(i.split()) == 1:\n",
    "            try:\n",
    "                word_embedding = bioword_vector[i]\n",
    "            # If the word does not have an embedding already, we use the model to create one for it\n",
    "            except:\n",
    "                word_embedding = bioword_model.get_word_vector(i)\n",
    "            vectors[i] = word_embedding\n",
    "        else:\n",
    "            # Split the string into two words\n",
    "            multiple_words = i.split()\n",
    "            multiple_words_embeddings = []\n",
    "            # This creates an embedding for each word in the string\n",
    "            for word in multiple_words:\n",
    "                try:\n",
    "                    word_embedding = bioword_vector[word]\n",
    "                # If the word does not have an embedding already, we use the model to create one for it\n",
    "                except:\n",
    "                    word_embedding = bioword_model.get_word_vector(word)\n",
    "                multiple_words_embeddings.append(word_embedding)\n",
    "            vectors[i] = multiple_words_embeddings\n",
    "    return vectors\n",
    "\n",
    "knee_oa_embeddings = create_embeddings(knee_oa_substrings)\n",
    "hip_oa_embeddings = create_embeddings(hip_oa_substrings)\n",
    "\n",
    "print(knee_oa_embeddings.keys())\n",
    "print(hip_oa_embeddings.keys())"
   ]
  },
  {
   "cell_type": "code",
   "execution_count": null,
   "metadata": {},
   "outputs": [
    {
     "name": "stdout",
     "output_type": "stream",
     "text": [
      "[tensor([-0.2603,  0.4272,  0.3095, -0.3169, -0.2128, -0.5430, -0.2666,  0.1239,\n",
      "         1.5385,  0.4681, -0.7621,  0.1065,  0.5792,  0.3217,  0.3974,  0.4679,\n",
      "         0.4497,  0.0905,  0.4148,  0.1793, -0.3565,  0.4682, -0.7171,  0.2464,\n",
      "         0.4396, -0.1002,  0.3209, -0.0387,  1.1097,  0.1031,  0.3740,  0.4466,\n",
      "         0.0312, -0.0053, -1.0080, -0.3279, -0.2582, -0.3532, -0.4033,  0.2935,\n",
      "         0.2130, -0.1458, -0.7886,  0.7468, -0.4722,  0.7275,  0.5605, -0.1837,\n",
      "        -1.1738, -0.2133,  0.0285, -0.0681, -1.0151,  0.5577, -0.3304,  0.3571,\n",
      "        -0.0506,  0.3155, -0.3221, -0.0435,  0.5139,  0.3927,  0.3636,  0.5923,\n",
      "         0.3153,  0.1941, -0.0179,  0.5383,  0.3122,  0.1515, -0.6059,  0.1711,\n",
      "         0.0454,  0.2127, -0.3796, -0.3050,  0.1448,  0.7174,  0.1922, -0.6134,\n",
      "         0.0054, -0.9837, -0.6054,  0.3950,  0.0085,  0.1025, -0.4495, -0.3519,\n",
      "         0.7130, -0.0902,  0.2316, -0.5953,  0.1683, -0.0857, -0.5314, -0.8464,\n",
      "        -0.3151,  0.5821,  0.1732, -0.8445,  0.2910,  0.2280,  0.3681,  0.2913,\n",
      "        -0.1831, -0.1941, -1.0998, -0.2314, -0.4626, -0.0684, -0.2724,  0.4415,\n",
      "        -0.4146, -0.3795, -0.4965,  0.3885,  0.7153, -0.2804, -0.5409, -0.3760,\n",
      "         0.1582, -0.1650, -0.6672, -0.0920, -0.2792,  0.1235,  0.2243, -0.2533,\n",
      "        -0.1505, -1.1082,  0.0334, -0.7624, -0.1513,  0.1078,  0.2698,  0.1250,\n",
      "        -0.0390, -0.3068,  0.4699,  0.5685, -0.2618,  0.2918,  0.1605,  0.3805,\n",
      "        -0.7086, -0.6478,  0.0372, -0.3681,  0.1620, -0.0892,  0.1680, -0.4348,\n",
      "         0.0834,  0.1896,  0.1163, -0.0197, -0.0046, -0.0498, -0.0101, -0.5519,\n",
      "         0.1212,  0.0448,  0.4018,  0.4133,  0.2654, -0.6661, -0.8575, -0.1072,\n",
      "        -0.1751, -0.2673,  0.0948,  0.7945, -0.6814, -0.4687, -0.1160,  0.8063,\n",
      "        -0.3023, -0.3941,  0.1009, -0.0372, -0.1709,  0.3281, -0.0218,  0.0862,\n",
      "        -0.4226,  1.1207,  0.2478, -0.9778, -0.3990, -0.3205, -0.5856, -0.4696,\n",
      "         0.6521,  0.1248,  0.2657, -0.8128, -1.0088,  0.1265, -0.1701, -0.3857]), tensor([ 1.0894e-01,  6.5110e-01, -4.5509e-01, -1.9159e-01, -1.1311e-01,\n",
      "        -8.5589e-02, -1.8680e-01,  2.4442e-01,  1.0845e+00,  3.7866e-01,\n",
      "        -9.1128e-01,  5.5300e-01,  2.1491e-01,  6.1734e-01, -8.7006e-01,\n",
      "        -2.9849e-01, -2.9542e-01, -5.1253e-02,  4.0422e-01,  1.2688e-01,\n",
      "        -8.2046e-02, -1.5752e-02, -3.9675e-01,  1.8581e-01, -9.3977e-02,\n",
      "         7.0630e-01,  6.2663e-02, -2.9171e-01,  9.1210e-02, -7.3369e-02,\n",
      "         4.6702e-01, -1.2879e-01, -3.2325e-01, -8.5266e-02, -9.7723e-01,\n",
      "        -4.4180e-01,  3.0022e-01, -6.3797e-01, -1.7732e-01, -1.3064e-01,\n",
      "        -2.3822e-01, -3.8086e-01, -2.9639e-01,  9.2962e-02, -7.3693e-02,\n",
      "         2.6369e-03,  1.8532e-01,  3.8844e-01, -4.5267e-01, -3.3604e-01,\n",
      "        -1.4299e-01, -3.3023e-01, -5.4631e-01, -2.2769e-02, -1.1170e+00,\n",
      "         3.0687e-01, -5.1358e-02, -3.2016e-01, -4.7626e-01,  1.5694e-01,\n",
      "        -3.7924e-02, -4.6219e-01,  5.7913e-01,  4.5766e-01,  4.1949e-01,\n",
      "         1.8369e-01,  7.8039e-01, -4.0145e-01,  3.4527e-01,  2.5527e-01,\n",
      "        -8.0999e-01,  4.1154e-01, -1.9894e-01,  8.1892e-01, -4.9129e-01,\n",
      "        -2.5316e-01,  9.4385e-02,  9.8741e-02,  2.4812e-01,  4.9804e-01,\n",
      "        -4.9737e-01, -1.0243e-01, -4.7139e-01,  2.7526e-01, -7.6615e-01,\n",
      "         4.5629e-02, -1.0241e+00, -7.6158e-01, -1.5703e-01,  5.2742e-01,\n",
      "         1.0886e-01, -9.3611e-02,  1.8741e-01, -3.4594e-01, -4.8866e-01,\n",
      "        -8.3892e-01, -4.6080e-01,  2.0126e-01,  3.1989e-01, -6.0377e-01,\n",
      "         7.4837e-01,  2.2730e-01,  2.6456e-01, -1.3408e-02, -3.9539e-01,\n",
      "        -7.2470e-01, -2.6866e-01, -2.9637e-01,  1.2899e-01,  8.9338e-01,\n",
      "         5.6443e-01,  5.4781e-01, -1.4765e-01, -1.9002e-01, -4.4323e-01,\n",
      "        -8.5123e-02, -4.1665e-01,  5.5047e-01, -6.8279e-01, -3.9188e-01,\n",
      "         2.0290e-01,  3.5906e-02, -4.1789e-01, -1.6186e-01, -8.1910e-01,\n",
      "        -7.5968e-02,  4.1439e-01, -1.4529e-01,  5.7362e-01, -7.3595e-01,\n",
      "         8.1081e-02, -8.3311e-01, -4.6225e-01, -2.2377e-02, -5.9123e-01,\n",
      "        -2.1972e-01,  1.2345e-01, -1.8925e-01,  1.1926e-01,  2.3816e-01,\n",
      "        -3.2996e-01, -2.9009e-01, -3.4999e-01,  4.6142e-01, -2.3784e-01,\n",
      "        -6.8259e-01,  9.3210e-02, -4.0237e-01,  6.7242e-01,  2.0445e-01,\n",
      "        -5.4631e-02, -3.2319e-01,  4.4336e-01, -2.0006e-01,  1.3352e-01,\n",
      "        -4.2381e-01,  3.8028e-02, -1.5687e-01,  4.8565e-01, -6.8978e-01,\n",
      "        -3.3387e-01, -3.0196e-01,  2.3963e-01,  9.4749e-01, -2.1163e-02,\n",
      "        -8.1223e-01, -1.4956e-01,  7.2067e-01, -8.8936e-01, -9.9809e-02,\n",
      "         4.6985e-02,  2.6537e-01,  2.1118e-01,  5.3087e-03,  3.7754e-01,\n",
      "         5.5306e-02, -2.2581e-01, -1.5063e-01,  8.2565e-02,  1.3110e-01,\n",
      "        -3.3805e-01, -2.5996e-01,  4.1432e-01, -2.2939e-01,  3.6897e-01,\n",
      "         2.7639e-01, -8.5149e-02, -5.9445e-04, -1.6398e-01, -3.8644e-01,\n",
      "        -9.1698e-01, -3.3114e-01,  6.1702e-01,  5.1606e-01, -9.2332e-02,\n",
      "        -8.9163e-01, -7.7759e-01,  2.3647e-01, -3.0245e-02,  2.2282e-01])]\n"
     ]
    },
    {
     "name": "stderr",
     "output_type": "stream",
     "text": [
      "/tmp/ipykernel_3876/628472268.py:11: UserWarning: The given NumPy array is not writable, and PyTorch does not support non-writable tensors. This means writing to this tensor will result in undefined behavior. You may want to copy the array to protect its data or make it writable before converting it to a tensor. This type of warning will be suppressed for the rest of this program. (Triggered internally at /opt/conda/conda-bld/pytorch_1666642881969/work/torch/csrc/utils/tensor_numpy.cpp:199.)\n",
      "  tensor = torch.Tensor(list_embeddings[key][i])\n"
     ]
    }
   ],
   "source": [
    "# Convert the word embeddings into CrypTen tensors, save the encrypted tensors to a file for future use\n",
    "def create_tensors(list_embeddings):\n",
    "    tensors = []\n",
    "    for key in list_embeddings:\n",
    "        if len(key.split()) == 1:\n",
    "            tensor = torch.Tensor(list_embeddings[key])\n",
    "            tensors.append(tensor)\n",
    "        else:\n",
    "            list_tensors = []\n",
    "            for i in range(len((key.split()))):\n",
    "                tensor = torch.Tensor(list_embeddings[key][i])\n",
    "                list_tensors.append(tensor)\n",
    "            tensors.append(list_tensors)\n",
    "    return tensors\n",
    "\n",
    "knee_oa_tensors = create_tensors(knee_oa_embeddings)\n",
    "hip_oa_tensors = create_tensors(hip_oa_embeddings)\n",
    "\n",
    "print(knee_oa_tensors[0])"
   ]
  },
  {
   "cell_type": "code",
   "execution_count": null,
   "metadata": {},
   "outputs": [],
   "source": [
    "# This function creates pickle files that can be retrieved later in the MPC protocol\n",
    "def create_file(filename, tensors):\n",
    "    with open(filename, 'wb') as f:\n",
    "        torch.save(tensors, f)\n",
    "    \n",
    "create_file(knee_keywords_output, knee_oa_tensors)\n",
    "create_file(hip_keywords_output, hip_oa_tensors)"
   ]
  }
 ],
 "metadata": {
  "interpreter": {
   "hash": "396fe45e3b44ba9654315dc2a7f72c0c783ed34682a9bc3ce59f4b8b89d2d6b4"
  },
  "kernelspec": {
   "display_name": "Python 3.9.15 64-bit ('thesis': conda)",
   "language": "python",
   "name": "python3"
  },
  "language_info": {
   "codemirror_mode": {
    "name": "ipython",
    "version": 3
   },
   "file_extension": ".py",
   "mimetype": "text/x-python",
   "name": "python",
   "nbconvert_exporter": "python",
   "pygments_lexer": "ipython3",
   "version": "3.9.15"
  },
  "orig_nbformat": 4
 },
 "nbformat": 4,
 "nbformat_minor": 2
}
