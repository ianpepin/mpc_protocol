{
 "cells": [
  {
   "cell_type": "code",
   "execution_count": 2,
   "metadata": {},
   "outputs": [],
   "source": [
    "import crypten\n",
    "crypten.init()\n",
    "import torch\n",
    "from crypten import mpc"
   ]
  },
  {
   "cell_type": "code",
   "execution_count": 3,
   "metadata": {},
   "outputs": [],
   "source": [
    "ALICE = 0\n",
    "BOB = 1"
   ]
  },
  {
   "cell_type": "code",
   "execution_count": 4,
   "metadata": {},
   "outputs": [
    {
     "name": "stdout",
     "output_type": "stream",
     "text": [
      "tensor(0.0606)tensor(0.0606)\n",
      "\n",
      "tensor(0)tensor(0)\n",
      "\n",
      "MPCTensor(\n",
      "\t_tensor=1422772738743074816\n",
      "\tplain_text=HIDDEN\n",
      "\tptype=ptype.arithmetic\n",
      ")MPCTensor(\n",
      "\t_tensor=-1422772738743074816\n",
      "\tplain_text=HIDDEN\n",
      "\tptype=ptype.arithmetic\n",
      ")\n",
      "\n"
     ]
    },
    {
     "data": {
      "text/plain": [
       "[None, None]"
      ]
     },
     "execution_count": 4,
     "metadata": {},
     "output_type": "execute_result"
    }
   ],
   "source": [
    "@mpc.run_multiprocess(world_size=2)\n",
    "def test():\n",
    "    list_of_tensors = []\n",
    "    x = torch.tensor([1.0, 2.0, 3.0])\n",
    "    x_enc = crypten.cryptensor(x)\n",
    "    list_of_tensors.append(x_enc)\n",
    "    \n",
    "    # y = torch.tensor([3.0, 2.0, 10.0])\n",
    "    y = torch.tensor([1.0, 2.0, 3.1])\n",
    "    y_enc = crypten.cryptensor(y)\n",
    "    list_of_tensors.append(y_enc)\n",
    "    \n",
    "    # print(list_of_tensors)\n",
    "    \n",
    "    square_root = (sum((y_enc - x_enc).pow(2))).sqrt()\n",
    "    print(square_root.get_plain_text())\n",
    "    \n",
    "    match = crypten.where(square_root < 0.05, 1, 0)\n",
    "    # print(match)\n",
    "    \n",
    "    positive_match = 1\n",
    "    negative_match = 0\n",
    "    \n",
    "    result = crypten.where(match == 1, 1, 0)\n",
    "    print(result.get_plain_text())\n",
    "    print(result)\n",
    "    \n",
    "test()"
   ]
  }
 ],
 "metadata": {
  "interpreter": {
   "hash": "396fe45e3b44ba9654315dc2a7f72c0c783ed34682a9bc3ce59f4b8b89d2d6b4"
  },
  "kernelspec": {
   "display_name": "Python 3.9.15 64-bit ('thesis': conda)",
   "language": "python",
   "name": "python3"
  },
  "language_info": {
   "codemirror_mode": {
    "name": "ipython",
    "version": 3
   },
   "file_extension": ".py",
   "mimetype": "text/x-python",
   "name": "python",
   "nbconvert_exporter": "python",
   "pygments_lexer": "ipython3",
   "version": "3.9.15"
  },
  "orig_nbformat": 4
 },
 "nbformat": 4,
 "nbformat_minor": 2
}
