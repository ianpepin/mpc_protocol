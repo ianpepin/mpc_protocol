{
 "cells": [
  {
   "cell_type": "code",
   "execution_count": 1,
   "metadata": {},
   "outputs": [],
   "source": [
    "import torch\n",
    "import os\n",
    "import pandas as pd\n",
    "import csv\n",
    "import fasttext\n",
    "import gensim\n",
    "from gensim.models import KeyedVectors\n",
    "import torch\n",
    "import warnings\n",
    "warnings.simplefilter(action='ignore', category=FutureWarning)\n",
    "import string\n",
    "import re\n",
    "import nltk\n",
    "nltk.download('stopwords', quiet=True)\n",
    "nltk.download('punkt', quiet=True)\n",
    "from nltk.stem import PorterStemmer\n",
    "from nltk.corpus import stopwords\n",
    "from nltk.tokenize import word_tokenize\n",
    "import unidecode\n",
    "from natsort import natsorted\n",
    "import time"
   ]
  },
  {
   "cell_type": "code",
   "execution_count": 2,
   "metadata": {},
   "outputs": [
    {
     "name": "stdout",
     "output_type": "stream",
     "text": [
      "Model loaded\n"
     ]
    },
    {
     "name": "stderr",
     "output_type": "stream",
     "text": [
      "Warning : `load_model` does not return WordVectorModel or SupervisedModel any more, but a `FastText` object which is very similar.\n"
     ]
    }
   ],
   "source": [
    "vectors_filename = \"/home/jovyan/embeddings/BioWordVec_PubMed_MIMICIII_d200.vec.bin\"\n",
    "model_filename = \"/home/jovyan/embeddings/BioWordVec_PubMed_MIMICIII_d200.bin\"\n",
    "# Loads the BioWordVec model, which we can use to generate embeddings for OOV words\n",
    "bioword_model = fasttext.load_model(model_filename)\n",
    "print(\"Model loaded\")"
   ]
  },
  {
   "cell_type": "code",
   "execution_count": 3,
   "metadata": {},
   "outputs": [
    {
     "name": "stdout",
     "output_type": "stream",
     "text": [
      "Vectors loaded\n"
     ]
    }
   ],
   "source": [
    "# Loads the word embeddings from the vector binary file\n",
    "bioword_vector = KeyedVectors.load_word2vec_format(vectors_filename, binary=True)\n",
    "print(\"Vectors loaded\")"
   ]
  },
  {
   "cell_type": "code",
   "execution_count": 5,
   "metadata": {},
   "outputs": [],
   "source": [
    "knee_oa_substrings = ['knee pain', 'pain knee', 'knee oa', 'oa knee', 'ostoarthrities knee', 'knee osteoarthritis',\n",
    "                          'kneepain', 'painknee', 'kneeoa', 'oaknee', 'osteoarthritiesknee', 'kneeosteoarthritis']\n",
    "hip_oa_substrings = ['hip pain', 'pain hip', 'hip oa', 'oa hip' ,'ostheoarthrities hip', 'hip osteoarthritis',\n",
    "                         'hippain', 'painhip', 'hipoa', 'oahip' ,'ostheoarthritieship', 'hiposteoarthritis']"
   ]
  },
  {
   "cell_type": "markdown",
   "metadata": {},
   "source": [
    "#### Plaintext, no embeddings, check every keyword ####"
   ]
  },
  {
   "cell_type": "code",
   "execution_count": null,
   "metadata": {},
   "outputs": [],
   "source": [
    "patient_results = [0, 0]\n",
    "for i in knee_oa_substrings:\n",
    "    "
   ]
  }
 ],
 "metadata": {
  "interpreter": {
   "hash": "396fe45e3b44ba9654315dc2a7f72c0c783ed34682a9bc3ce59f4b8b89d2d6b4"
  },
  "kernelspec": {
   "display_name": "Python 3.9.15 64-bit ('thesis': conda)",
   "language": "python",
   "name": "python3"
  },
  "language_info": {
   "codemirror_mode": {
    "name": "ipython",
    "version": 3
   },
   "file_extension": ".py",
   "mimetype": "text/x-python",
   "name": "python",
   "nbconvert_exporter": "python",
   "pygments_lexer": "ipython3",
   "version": "3.9.15"
  },
  "orig_nbformat": 4
 },
 "nbformat": 4,
 "nbformat_minor": 2
}
