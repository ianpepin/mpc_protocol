{
 "cells": [
  {
   "cell_type": "code",
   "execution_count": 1,
   "metadata": {},
   "outputs": [
    {
     "name": "stdout",
     "output_type": "stream",
     "text": [
      "True\n",
      "2\n",
      "0\n",
      "<torch.cuda.device object at 0x7f44a0c53610>\n",
      "NVIDIA A100 80GB PCIe\n"
     ]
    }
   ],
   "source": [
    "import torch\n",
    "import crypten\n",
    "crypten.init()\n",
    "\n",
    "print(torch.cuda.is_available())\n",
    "\n",
    "print(torch.cuda.device_count())\n",
    "\n",
    "print(torch.cuda.current_device())\n",
    "\n",
    "print(torch.cuda.device(0))\n",
    "\n",
    "print(torch.cuda.get_device_name(0))"
   ]
  },
  {
   "cell_type": "code",
   "execution_count": 2,
   "metadata": {},
   "outputs": [
    {
     "name": "stdout",
     "output_type": "stream",
     "text": [
      "MPCTensor(\n",
      "\t_tensor=CUDALongTensor(tensor([     0,  65536, 131072], device='cuda:0'))\n",
      "\tplain_text=HIDDEN\n",
      "\tptype=ptype.arithmetic\n",
      ")\n"
     ]
    }
   ],
   "source": [
    "tensor = torch.tensor([0, 1, 2])\n",
    "if torch.cuda.is_available():\n",
    "    tensor = tensor.to(\"cuda:0\")\n",
    "tensor_enc = crypten.cryptensor(tensor)\n",
    "print(tensor_enc)"
   ]
  },
  {
   "cell_type": "code",
   "execution_count": 3,
   "metadata": {},
   "outputs": [
    {
     "name": "stdout",
     "output_type": "stream",
     "text": [
      "MPCTensor(\n",
      "\t_tensor=CUDALongTensor(tensor([196608, 262144, 327680], device='cuda:0'))\n",
      "\tplain_text=HIDDEN\n",
      "\tptype=ptype.arithmetic\n",
      ")\n"
     ]
    }
   ],
   "source": [
    "new_tensor = torch.tensor([3, 4, 5])\n",
    "new_tensor_enc = crypten.cryptensor(new_tensor, device=\"cuda:0\")\n",
    "\n",
    "print(new_tensor_enc)"
   ]
  },
  {
   "cell_type": "code",
   "execution_count": 4,
   "metadata": {},
   "outputs": [
    {
     "name": "stdout",
     "output_type": "stream",
     "text": [
      "tensor(-10, device='cuda:0')\n"
     ]
    }
   ],
   "source": [
    "euclidean_distance = (sum((tensor_enc - new_tensor_enc).pow(2))).sqrt()\n",
    "# Determine if there is a match, set match to the index of the word in the note, otherwise set it to -10\n",
    "match = crypten.where(euclidean_distance < 0.05, 1, -10)\n",
    "\n",
    "print(match.get_plain_text())"
   ]
  },
  {
   "cell_type": "code",
   "execution_count": 8,
   "metadata": {},
   "outputs": [
    {
     "name": "stdout",
     "output_type": "stream",
     "text": [
      "cuda 0:01:57.826821\n"
     ]
    }
   ],
   "source": [
    "from datetime import datetime\n",
    "# a = torch.rand(20000,20000)\n",
    "# a = a.cuda()\n",
    "\n",
    "a = torch.rand(20000,20000)\n",
    "a.to('cuda')\n",
    "\n",
    "i=0\n",
    "t1 = datetime.now()\n",
    "while i< 500:\n",
    "    a += 1\n",
    "    a -= 1\n",
    "    i+=1\n",
    "t2 = datetime.now()\n",
    "print('cuda', t2-t1)"
   ]
  }
 ],
 "metadata": {
  "interpreter": {
   "hash": "396fe45e3b44ba9654315dc2a7f72c0c783ed34682a9bc3ce59f4b8b89d2d6b4"
  },
  "kernelspec": {
   "display_name": "Python 3.9.15 64-bit ('thesis': conda)",
   "language": "python",
   "name": "python3"
  },
  "language_info": {
   "codemirror_mode": {
    "name": "ipython",
    "version": 3
   },
   "file_extension": ".py",
   "mimetype": "text/x-python",
   "name": "python",
   "nbconvert_exporter": "python",
   "pygments_lexer": "ipython3",
   "version": "3.9.15"
  },
  "orig_nbformat": 4
 },
 "nbformat": 4,
 "nbformat_minor": 2
}
